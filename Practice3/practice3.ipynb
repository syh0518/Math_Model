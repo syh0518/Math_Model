{
 "cells": [
  {
   "cell_type": "code",
   "execution_count": null,
   "metadata": {},
   "outputs": [],
   "source": [
    "\"\"\"\n",
    "task1: 短期实习3&4\n",
    "autor: 邵宇辉202083300563 20级气象学(8)班\n",
    "time: 2023/04/14\n",
    "\"\"\"\n",
    "import numpy as np\n",
    "import pandas as pd\n",
    "from cartopy.util import add_cyclic_point\n",
    "import matplotlib.pyplot as plt\n",
    "import cartopy.crs as ccrs\n",
    "import cartopy.feature as cfeature\n",
    "from cartopy.mpl.ticker import LongitudeFormatter, LatitudeFormatter\n",
    "import matplotlib.colors as mcolors\n",
    "from scipy.stats import pearsonr\n",
    "import cartopy.io.shapereader as shpreader\n",
    "import xarray as xr\n",
    "from sklearn.preprocessing import scale\n",
    "from scipy.interpolate import Rbf#引入径向基函数\n",
    "import matplotlib.colors as colors\n",
    "import geopandas as gpd\n",
    "plt.rcParams['font.sans-serif']=['KaiTi']#英文新罗马字体\n",
    "plt.rcParams['axes.unicode_minus']=False"
   ]
  },
  {
   "cell_type": "code",
   "execution_count": null,
   "metadata": {},
   "outputs": [],
   "source": [
    "def Corr_vars(NAO_index, DJF_var,lon= False,lat= False):\n",
    "    # 遍历每个格点, 求出其pearson相关系数\n",
    "    r_p = np.zeros((2,len(lat.values), len(lon.values)))  #用于存储格点的相关系数&P-value\n",
    "    for m, n in enumerate(lon.values):\n",
    "        for i,j in enumerate(lat.values):\n",
    "            r_p[0][i][m] = pearsonr(DJF_var[:,i, m], NAO_index)[0]     #r\n",
    "            r_p[1][i][m] = pearsonr(DJF_var[:,i, m], NAO_index)[1]     #p-value\n",
    "    return r_p\n",
    "\n",
    "def creat_map(extent):  #底图绘制\n",
    "    ##绘图区域\n",
    "    proj = ccrs.PlateCarree(central_longitude= 180)\n",
    "    fig = plt.figure(figsize=(6,8), dpi= 300, facecolor='white')\n",
    "    ax = fig.add_axes([0.1,0.2,0.9,0.4], projection= proj)\n",
    "    ##设置地图属性\n",
    "    # states_provinces = cfeature.NaturalEarthFeature(\n",
    "    #                     category='cultural',\n",
    "    #                     name='admin_1_states_provinces_lines',\n",
    "    #                     scale='50m',\n",
    "    #                     facecolor='none')\n",
    "    # ax.add_feature(states_provinces, edgecolor='k',linewidth= 0.6, zorder= 2)\n",
    "    ax.add_feature(cfeature.LAND, facecolor='#D3D3D3')\n",
    "    ax.add_feature(cfeature.OCEAN, facecolor='never')\n",
    "    ax.add_feature(cfeature.COASTLINE.with_scale('50m'), linewidth= 0.6, zorder= 2)\n",
    "    # ax.add_feature(cfeature.BORDERS, linestyle='-',linewidth= 0.6,zorder= 2)\n",
    "    ax.set_extent(extent)  #范围\n",
    "    return fig, ax, proj\n",
    "\n",
    "\n",
    "def truncate_colormap(cmap, minval=0.4, maxval=1.0, n=100):\n",
    "    new_cmap = colors.LinearSegmentedColormap.from_list(\n",
    "        \"trunc({n},{a:.2f},{b:.2f})\".format(n=cmap.name, a=minval, b=maxval),\n",
    "        cmap(np.linspace(minval, maxval, n)),\n",
    "    )\n",
    "    return new_cmap"
   ]
  },
  {
   "attachments": {},
   "cell_type": "markdown",
   "metadata": {},
   "source": [
    "#### 1.EU遥相关指数"
   ]
  },
  {
   "cell_type": "code",
   "execution_count": null,
   "metadata": {},
   "outputs": [],
   "source": [
    "# 数据读取\n",
    "data = xr.open_dataset(r'./era5_geo500_monthly_1951_2010_avedata.nc')\n",
    "EU_Jan = -data.z.loc[:,55,180+20]/9.8/4 + data.z.loc[:,55,180+75]/9.8/2 - data.z.loc[:,40,180+145]/9.8/4     #1951-2010年500hPa1月EU遥相关指数\n",
    "EU_Jan_scale = scale(EU_Jan)"
   ]
  },
  {
   "cell_type": "code",
   "execution_count": null,
   "metadata": {},
   "outputs": [],
   "source": [
    "# 滑动平均折线图\n",
    "years = np.arange(1951, 2010+1)\n",
    "import proplot as pplt\n",
    "fig, ax = pplt.subplots(\n",
    "                        refheight = 2,\n",
    "                        refwidth= 5,\n",
    "                        dpi= 300,\n",
    "                        xlabel='Year',\n",
    "                        ylabel='EU Index(scaled)',\n",
    "                        share= 1\n",
    ")\n",
    "ax[0].plot(years, EU_Jan_scale, color= '#8b2671', marker='o',markersize=3, lw=1.5)\n",
    "ax.format(\n",
    "          ylim=(-3,3),\n",
    "          xlim=(1949, 2012),\n",
    "          yticks= 1,\n",
    "          xticks= 10,\n",
    "          linewidth= 1.2,\n",
    "          abcsize= 14,\n",
    "          titlesize= 14,\n",
    "          xlabelsize= 10,\n",
    "          ylabelsize= 10\n",
    ")\n",
    "fig.savefig(r'../PIC/P3_1951_2010_500hPa_EU_index(JanAve_scale).svg', format='svg', dpi=300, pad_inches= 0.2, bbox_inches= 'tight')"
   ]
  },
  {
   "attachments": {},
   "cell_type": "markdown",
   "metadata": {},
   "source": [
    "#### 2.EU指数与环流场相关性"
   ]
  },
  {
   "cell_type": "code",
   "execution_count": null,
   "metadata": {},
   "outputs": [],
   "source": [
    "# 数据读取\n",
    "hgt = np.array(data.z)\n",
    "r_p = Corr_vars(EU_Jan, hgt, data.longitude, data.latitude)"
   ]
  },
  {
   "cell_type": "code",
   "execution_count": null,
   "metadata": {},
   "outputs": [],
   "source": [
    "# 绘图\n",
    "fig, ax , proj = creat_map(extent=[-180, 180, -90, 90])   #绘图\n",
    "# 填色 显著性\n",
    "C = ax.contourf(data.longitude,  data.latitude, r_p[0], transform= proj,cmap='bwr', extend='neither', zorder=1, levels= np.arange(-1,1.1,0.1))\n",
    "C1 = ax.contourf(data.longitude,  data.latitude, r_p[1], [0, 0.05, 1], zorder=1, hatches=['\\\\', None], colors='none',transform= proj)\n",
    "C2 = ax.contourf(data.longitude,  data.latitude, r_p[1], [0, 0.05, 1], zorder=1, hatches=['//', None], colors='none',transform= proj)\n",
    "# 标签\n",
    "ax.set_xticks([-180,-90, 0,90, 180], crs= proj)\n",
    "ax.set_yticks([-90,-60,-30, 0, 30,60,90], crs= proj)\n",
    "ax.xaxis.set_major_formatter(LongitudeFormatter())\n",
    "ax.yaxis.set_major_formatter(LatitudeFormatter())\n",
    "cbar_ax = fig.add_axes([0.15,0.172,0.8,0.022])\n",
    "fig.colorbar(C,\n",
    "        orientation= 'horizontal', cax= cbar_ax,\n",
    "        ticks= np.arange(-1,1.2,0.2)\n",
    "        )\n",
    "fig.savefig(r'../PIC/P3_1951_2010_500hPa_corr(EU&hgt).svg',format='svg', dpi=300, pad_inches= 0.3, bbox_inches= 'tight' )"
   ]
  },
  {
   "attachments": {},
   "cell_type": "markdown",
   "metadata": {},
   "source": [
    "#### 3.1月份WP遥相关指数与我国气温的相关系数分布"
   ]
  },
  {
   "cell_type": "code",
   "execution_count": null,
   "metadata": {},
   "outputs": [],
   "source": [
    "# 读取数据\n",
    "data_tep = pd.read_table(r'./t1601.txt', header= None)\n",
    "data_sta = pd.read_excel(r'./station160.xlsx')\n",
    "data_sta1 = pd.DataFrame(np.zeros((160, 5+60)), columns=list(['number', 'name', 'number1', 'LAT', 'LON']) + list( np.arange(1951, 2010+1)))\n",
    "data_sta1.iloc[:,0:5] = data_sta\n",
    "# 存储\n",
    "data_tep = data_tep.iloc[:,0].apply(lambda x: np.array(str(x).split()))\n",
    "for i in np.arange(2010-1951+1):    #年循环\n",
    "    data_tep_year = data_tep.iloc[i*8:i*8+8]\n",
    "    for j in np.arange(8):          #站点循环\n",
    "        data_sta1.iloc[j*20:j*20+20, i+5] = data_tep_year.iloc[j].astype(int)\n",
    "\n",
    "#计算与Nino3.4 Index的相关系数\n",
    "data_sta1['corr_EU&T'] = data_sta1.iloc[:, 5:5+60].apply(lambda x: pearsonr(x, EU_Jan)[0], axis= 1)   #Corr(WHD, Nino34_index)\n",
    "data_sta1['P_EU&T'] = data_sta1.iloc[:, 5:5+60].apply(lambda x: pearsonr(x, EU_Jan)[1], axis= 1) #P-value"
   ]
  },
  {
   "cell_type": "code",
   "execution_count": null,
   "metadata": {},
   "outputs": [],
   "source": [
    "# 站点->格点\n",
    "data_corr = data_sta1.iloc[:,[3,4,-2,-1]]\n",
    "lon = data_corr.LON\n",
    "lat = data_corr.LAT\n",
    "corr = data_corr['corr_EU&T']\n",
    "P = data_corr['P_EU&T']\n",
    "# 插值\n",
    "olon = np.linspace(70, 140,100)\n",
    "olat = np.linspace(15, 55, 100)\n",
    "olon, olat = np.meshgrid(olon, olat)\n",
    "func = Rbf(lon, lat, corr, function='linear')\n",
    "func1 = Rbf(lon, lat, P, function='linear')\n",
    "corr_new = func(olon, olat)    #插值结果\n",
    "P_new = func1(olon, olat)\n",
    "# geopandas方法裁剪中国区域\n",
    "data_corr_df = pd.DataFrame(dict(lon= olon.flatten(), lat= olat.flatten()))\n",
    "data_corr_df['corr'] = corr_new.flatten()\n",
    "data_corr_df['P'] = P_new.flatten()\n",
    "df_geo = gpd.GeoDataFrame(data_corr_df,\n",
    "                          geometry= gpd.points_from_xy(data_corr_df['lon'], data_corr_df['lat']),\n",
    "                          crs= 'EPSG:4326')\n",
    "china_shp = gpd.read_file(r'../map/china.shp', encoding= 'UTF-8')\n",
    "df_clip = gpd.clip(df_geo, china_shp)\n",
    "\n",
    "# 数据再处理\n",
    "shp_china = shpreader.Reader(r'../map/china.shp')\n",
    "shp_prov = shpreader.Reader(r'D:\\DaChuang\\Data\\shp\\cn_shp\\Province_9\\Province_9.shp')\n",
    "df_clip1 = df_clip[df_clip['P']<0.1]\n",
    "\n",
    "# 绘图\n",
    "##基础部分\n",
    "proj = ccrs.PlateCarree()\n",
    "fig = plt.figure(figsize=(6,8), dpi= 300, facecolor='white')\n",
    "ax = fig.add_axes([0.1,0.2,0.9,0.4], projection= proj)\n",
    "ax.add_geometries(shp_china.geometries(),crs=ccrs.PlateCarree(),edgecolor='k',facecolor='none',lw=1)\n",
    "ax.add_geometries(shp_prov.geometries(),crs=ccrs.PlateCarree(),edgecolor='k',facecolor='none',lw=0.5)\n",
    "ax.set_extent([70,140,15,55],crs=ccrs.PlateCarree())\n",
    "ax.set_xticks(np.arange(80,150,20))\n",
    "ax.set_yticks(np.arange(20,60,10))\n",
    "ax.xaxis.set_major_formatter(LongitudeFormatter())\n",
    "ax.yaxis.set_major_formatter(LatitudeFormatter())\n",
    "##白化部分\n",
    "ac = ax.scatter(df_clip['lon'],df_clip['lat'], c= df_clip['corr'], s=9,marker='s',\n",
    "                cmap= truncate_colormap(plt.cm.bwr, minval=0, maxval= 1),\n",
    "                norm = mcolors.TwoSlopeNorm(vmin=-0.3, vmax = 0.3, vcenter=0) )\n",
    "ax.scatter(df_clip1['lon'],df_clip1['lat'], c= 'black', s=9,marker='.')\n",
    "cbar_ax = fig.add_axes([0.15,0.14,0.8,0.022])\n",
    "fig.colorbar(ac,orientation= 'horizontal', cax= cbar_ax,ticks= np.linspace(-0.3, 0.3,4+1))\n",
    "fig.savefig(r'../PIC/P3_1951_2010_160sta_corr(EU&temp).svg',format='svg', dpi=300, pad_inches= 0.3, bbox_inches= 'tight' )"
   ]
  }
 ],
 "metadata": {
  "kernelspec": {
   "display_name": "Python 3",
   "language": "python",
   "name": "python3"
  },
  "language_info": {
   "codemirror_mode": {
    "name": "ipython",
    "version": 3
   },
   "file_extension": ".py",
   "mimetype": "text/x-python",
   "name": "python",
   "nbconvert_exporter": "python",
   "pygments_lexer": "ipython3",
   "version": "3.10.0"
  },
  "orig_nbformat": 4
 },
 "nbformat": 4,
 "nbformat_minor": 2
}
