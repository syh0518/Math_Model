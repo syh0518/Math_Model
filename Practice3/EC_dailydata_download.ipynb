{
 "cells": [
  {
   "cell_type": "code",
   "execution_count": 1,
   "metadata": {},
   "outputs": [],
   "source": [
    "import cdsapi\n",
    "import requests\n",
    "import numpy as np\n",
    "import os\n",
    "import xarray as xr\n",
    "import tqdm\n",
    "import requests\n",
    "requests.adapters.DEFAULT_RETRIES = 5"
   ]
  },
  {
   "attachments": {},
   "cell_type": "markdown",
   "metadata": {},
   "source": [
    "#### 月数据"
   ]
  },
  {
   "cell_type": "code",
   "execution_count": 2,
   "metadata": {},
   "outputs": [
    {
     "name": "stderr",
     "output_type": "stream",
     "text": [
      "2023-04-14 11:10:16,247 INFO Welcome to the CDS\n",
      "2023-04-14 11:10:16,248 INFO Sending request to https://cds.climate.copernicus.eu/api/v2/resources/reanalysis-era5-pressure-levels-monthly-means\n",
      "2023-04-14 11:10:16,655 INFO Request is completed\n",
      "2023-04-14 11:10:16,657 INFO Downloading https://download-0010-clone.nuist.love/cache-compute-0010/cache/data2/adaptor.mars.internal-1681440743.3381035-24854-14-0cbc2f2c-4da1-479a-80a5-24edccd28d5b.nc to era5_geo500_monthly_1951_2010_avedata.nc (118.8M)\n",
      "2023-04-14 11:11:18,403 INFO Download rate 1.9M/s  \n"
     ]
    },
    {
     "data": {
      "text/plain": [
       "Result(content_length=124598800,content_type=application/x-netcdf,location=https://download-0010-clone.copernicus-climate.eu/cache-compute-0010/cache/data2/adaptor.mars.internal-1681440743.3381035-24854-14-0cbc2f2c-4da1-479a-80a5-24edccd28d5b.nc)"
      ]
     },
     "execution_count": 2,
     "metadata": {},
     "output_type": "execute_result"
    }
   ],
   "source": [
    "c = cdsapi.Client(timeout=300)\n",
    "c.retrieve(\n",
    "    'reanalysis-era5-pressure-levels-monthly-means', #等压面\n",
    "    {\n",
    "        'format': 'netcdf',\n",
    "        'product_type': 'monthly_averaged_reanalysis',\n",
    "        'variable': 'geopotential',    #表层 \n",
    "        'pressure_level': '500',\n",
    "        'year': [\n",
    "            '1951',\n",
    "            '1952', '1953', '1954',\n",
    "            '1955', '1956', '1957',\n",
    "            '1958', '1959', '1960',\n",
    "            '1961', '1962', '1963',\n",
    "            '1964', '1965', '1966',\n",
    "            '1967', '1968', '1969',\n",
    "            '1970', '1971', '1972',\n",
    "            '1973', '1974', '1975',\n",
    "            '1976', '1977', '1978',\n",
    "            '1979', '1980', '1981',\n",
    "            '1982', '1983', '1984',\n",
    "            '1985', '1986', '1987',\n",
    "            '1988', '1989', '1990',\n",
    "            '1991', '1992', '1993',\n",
    "            '1994', '1995', '1996',\n",
    "            '1997', '1998', '1999',\n",
    "            '2000', '2001', '2002',\n",
    "            '2003', '2004', '2005',\n",
    "            '2006', '2007', '2008',\n",
    "            '2009', '2010',\n",
    "        ],\n",
    "        'month': '01',\n",
    "        'time': '00:00',\n",
    "        'product_type': 'monthly_averaged_reanalysis',\n",
    "\n",
    "    },\n",
    "    'era5_geo500_monthly_1951_2010_avedata.nc')"
   ]
  }
 ],
 "metadata": {
  "kernelspec": {
   "display_name": "Python 3",
   "language": "python",
   "name": "python3"
  },
  "language_info": {
   "codemirror_mode": {
    "name": "ipython",
    "version": 3
   },
   "file_extension": ".py",
   "mimetype": "text/x-python",
   "name": "python",
   "nbconvert_exporter": "python",
   "pygments_lexer": "ipython3",
   "version": "3.10.0"
  },
  "orig_nbformat": 4,
  "vscode": {
   "interpreter": {
    "hash": "0c2aa4e111be9f97874af055427fdbfdb1a594a6a2dc65ed2b2d4437de81f5e8"
   }
  }
 },
 "nbformat": 4,
 "nbformat_minor": 2
}
